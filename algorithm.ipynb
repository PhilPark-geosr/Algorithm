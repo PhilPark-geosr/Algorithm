{
 "cells": [
  {
   "attachments": {},
   "cell_type": "markdown",
   "metadata": {},
   "source": [
    "### 투 포인터 알고리즘\n",
    "* 특정한 합을 가지는 부분 연속 수열 찾기\n",
    "1. 시작점 = 끝점 = 0\n",
    "2. 현재 부분합이 M과 같다면 카운트\n",
    "3. 현재 부분합이 M보다 크거나 같으면 start 1증가\n",
    "4. 현재 부분합이 M보다 작으면 end 1증가\n",
    "5. 모든경우 확인때까지 2~4 반복"
   ]
  },
  {
   "attachments": {},
   "cell_type": "markdown",
   "metadata": {},
   "source": [
    "### 합이 M인 연속 부분수열"
   ]
  },
  {
   "cell_type": "code",
   "execution_count": 3,
   "metadata": {},
   "outputs": [
    {
     "name": "stdout",
     "output_type": "stream",
     "text": [
      "0 3 6\n",
      "1 3 5\n",
      "2 4 5\n",
      "3 5 7\n",
      "4 5 5\n",
      "3\n"
     ]
    }
   ],
   "source": [
    "n = 5\n",
    "m = 5\n",
    "data = [1,2,3,2,5]\n",
    "\n",
    "count = 0\n",
    "interver_sum = 0\n",
    "end = 0\n",
    "\n",
    "for start in range(n):\n",
    "    while interver_sum < m and end <n:\n",
    "        \n",
    "        interver_sum += data[end]\n",
    "        end +=1\n",
    "    print(start, end, interver_sum)\n",
    "    if interver_sum ==m:\n",
    "        count+=1\n",
    "    ## interversum > m 인경우 \n",
    "    interver_sum -= data[start]\n",
    "print(count)\n",
    "\n"
   ]
  },
  {
   "attachments": {},
   "cell_type": "markdown",
   "metadata": {},
   "source": [
    "### 정렬되어 있는 두 리스트의 합집합"
   ]
  },
  {
   "cell_type": "code",
   "execution_count": 6,
   "metadata": {},
   "outputs": [
    {
     "name": "stdout",
     "output_type": "stream",
     "text": [
      "0 0\n",
      "1 0\n",
      "1 1\n",
      "2 1\n",
      "2 2\n",
      "3 2\n",
      "[1, 2, 3, 4, 5, 6, 8]\n"
     ]
    }
   ],
   "source": [
    "n, m = 3,4\n",
    "a = [1,3,5]\n",
    "b= [2,4,6,8]\n",
    "\n",
    "i =0\n",
    "j = 0\n",
    "result =[]\n",
    "while i <n or j<m: # 둘다 빌때까지\n",
    "    print(i, j)\n",
    "    # 둘다 아직 처리 안됐을때\n",
    "    if i<n and j<m:\n",
    "        if a[i] <= b[j]:\n",
    "            result.append(a[i])\n",
    "            i+=1\n",
    "        else:\n",
    "            result.append(b[j])\n",
    "            j+=1\n",
    "        \n",
    "    else: # i>=n or j>=m : 둘중하나만 처리됐을때\n",
    "        if i<n:\n",
    "            while i<n:\n",
    "                result.append(a[i])\n",
    "                i+=1\n",
    "        else: # j<m:\n",
    "            while j<m:\n",
    "                result.append(b[j])\n",
    "                j+=1\n",
    "            \n",
    "print(result)"
   ]
  },
  {
   "attachments": {},
   "cell_type": "markdown",
   "metadata": {},
   "source": [
    "### https://school.programmers.co.kr/learn/courses/30/lessons/42885"
   ]
  },
  {
   "cell_type": "code",
   "execution_count": 21,
   "metadata": {},
   "outputs": [],
   "source": [
    "def solution(people, limit):\n",
    "    n = len(people)\n",
    "    l = 0\n",
    "    r = n-1\n",
    "    people.sort()\n",
    "    \n",
    "    count= 0\n",
    "    while l<=r:\n",
    "        if l ==r:\n",
    "            count+=1\n",
    "            break\n",
    "        else:\n",
    "            if people[l] + people[r] > limit:\n",
    "                r = r-1 # r번째 원소는 처리되었으므로..\n",
    "                count +=1\n",
    "            else:\n",
    "                l = l+1\n",
    "                r = r-1 #양쪽 다 처리되었으므로 옮겨준다\n",
    "                count+=1\n",
    "\n",
    "    return count\n",
    "\n"
   ]
  },
  {
   "cell_type": "code",
   "execution_count": 22,
   "metadata": {},
   "outputs": [
    {
     "data": {
      "text/plain": [
       "3"
      ]
     },
     "execution_count": 22,
     "metadata": {},
     "output_type": "execute_result"
    }
   ],
   "source": [
    "people = [70, 50, 80, 50]\t\n",
    "limit= 100\n",
    "solution(people, limit)"
   ]
  },
  {
   "attachments": {},
   "cell_type": "markdown",
   "metadata": {},
   "source": [
    "### https://school.programmers.co.kr/learn/courses/30/lessons/67258"
   ]
  },
  {
   "cell_type": "code",
   "execution_count": null,
   "metadata": {},
   "outputs": [],
   "source": []
  },
  {
   "attachments": {},
   "cell_type": "markdown",
   "metadata": {},
   "source": [
    "### 구간합 알고리즘"
   ]
  },
  {
   "cell_type": "code",
   "execution_count": 27,
   "metadata": {},
   "outputs": [
    {
     "name": "stdout",
     "output_type": "stream",
     "text": [
      "[0, 10, 30, 60, 100, 150]\n"
     ]
    },
    {
     "data": {
      "text/plain": [
       "60"
      ]
     },
     "execution_count": 27,
     "metadata": {},
     "output_type": "execute_result"
    }
   ],
   "source": [
    "n = 5\n",
    "data = [10, 20, 30, 40, 50]\n",
    "\n",
    "# preifx sum 미리 계산\n",
    "prefix_sum = [0]\n",
    "sum_value = 0\n",
    "for elem in data: #O(n)\n",
    "    sum_value += elem\n",
    "    prefix_sum.append(sum_value)\n",
    "\n",
    "print(prefix_sum)\n",
    "\n",
    "def query(left, right): ##O(1)\n",
    "    return prefix_sum[right] - prefix_sum[left-1]\n",
    "\n",
    "query(1, 3)\n",
    "\n",
    "# N = 배열의 길이, M = 쿼리수\n",
    "# 총 걸리는 시간 : O(N+M)"
   ]
  },
  {
   "attachments": {},
   "cell_type": "markdown",
   "metadata": {},
   "source": [
    "### 순열 조합"
   ]
  },
  {
   "cell_type": "code",
   "execution_count": 35,
   "metadata": {},
   "outputs": [
    {
     "name": "stdout",
     "output_type": "stream",
     "text": [
      "[[1, 5, 2], [1, 5, 3], [1, 5, 4], [1, 2, 5], [1, 2, 3], [1, 2, 4], [1, 3, 5], [1, 3, 2], [1, 3, 4], [1, 4, 5], [1, 4, 2], [1, 4, 3], [5, 1, 2], [5, 1, 3], [5, 1, 4], [5, 2, 1], [5, 2, 3], [5, 2, 4], [5, 3, 1], [5, 3, 2], [5, 3, 4], [5, 4, 1], [5, 4, 2], [5, 4, 3], [2, 1, 5], [2, 1, 3], [2, 1, 4], [2, 5, 1], [2, 5, 3], [2, 5, 4], [2, 3, 1], [2, 3, 5], [2, 3, 4], [2, 4, 1], [2, 4, 5], [2, 4, 3], [3, 1, 5], [3, 1, 2], [3, 1, 4], [3, 5, 1], [3, 5, 2], [3, 5, 4], [3, 2, 1], [3, 2, 5], [3, 2, 4], [3, 4, 1], [3, 4, 5], [3, 4, 2], [4, 1, 5], [4, 1, 2], [4, 1, 3], [4, 5, 1], [4, 5, 2], [4, 5, 3], [4, 2, 1], [4, 2, 5], [4, 2, 3], [4, 3, 1], [4, 3, 5], [4, 3, 2]]\n",
      "[[1, 5, 2], [1, 5, 3], [1, 5, 4], [1, 2, 3], [1, 2, 4], [1, 3, 4], [5, 2, 3], [5, 2, 4], [5, 3, 4], [2, 3, 4]]\n"
     ]
    }
   ],
   "source": [
    "import itertools\n",
    "\n",
    "data = [1, 5,2,3,4]\n",
    "\n",
    "caselist_permute = list(map(list, itertools.permutations(data, 3)))\n",
    "print(caselist_permute)\n",
    "caselist_comb = list(map(list, itertools.combinations(data,3)))\n",
    "print(caselist_comb)"
   ]
  },
  {
   "attachments": {},
   "cell_type": "markdown",
   "metadata": {},
   "source": [
    "### https://school.programmers.co.kr/learn/courses/30/lessons/60057"
   ]
  },
  {
   "cell_type": "code",
   "execution_count": 109,
   "metadata": {},
   "outputs": [],
   "source": [
    "def solution(s):\n",
    "    n = len(s)\n",
    "    # print(n)\n",
    "    # 자르는 구간\n",
    "    def compress(s, cut):\n",
    "        cur_idx = (0, cut)\n",
    "        result = \"\"\n",
    "        while cur_idx[0] < n :\n",
    "            next_idx = (cur_idx[1], cur_idx[1] + cut)\n",
    "            cur_s = s[cur_idx[0]: cur_idx[1]]\n",
    "            next_s = s[next_idx[0]: next_idx[1]]\n",
    "            # print(cur_s, next_s, cur_idx, next_idx)\n",
    "            if cur_s == next_s:\n",
    "                count=2\n",
    "                flag = True\n",
    "                while flag and next_idx[0] < n:\n",
    "                    next_idx = (next_idx[1], next_idx[1] + cut)\n",
    "                    next_s = s[next_idx[0]: next_idx[1]]\n",
    "\n",
    "                    if cur_s == next_s:\n",
    "                        count+=1\n",
    "                    else:\n",
    "                        flag = False\n",
    "                result+=str(count) + cur_s\n",
    "                cur_idx = next_idx\n",
    "            else:\n",
    "                if next_idx ==n:\n",
    "                    result += cur_s + next_s\n",
    "                else:\n",
    "                    result += cur_s\n",
    "                cur_idx = next_idx\n",
    "        # return result\n",
    "        # print(result)\n",
    "        return len(result)\n",
    "    answer = float('inf')\n",
    "    for i in range(1,n+1):\n",
    "        temp = compress(s, i)\n",
    "        # print(temp)\n",
    "        if temp < answer:\n",
    "            answer = temp\n",
    "\n",
    "    return answer\n",
    "\n",
    "\n",
    "\n"
   ]
  },
  {
   "cell_type": "code",
   "execution_count": 110,
   "metadata": {},
   "outputs": [
    {
     "data": {
      "text/plain": [
       "17"
      ]
     },
     "execution_count": 110,
     "metadata": {},
     "output_type": "execute_result"
    }
   ],
   "source": [
    "s = \"ababcdcdababcdcd\"\n",
    "s = \"abcabcdede\"\n",
    "s = \"xababcdcdababcdcd\"\n",
    "solution(s)"
   ]
  },
  {
   "attachments": {},
   "cell_type": "markdown",
   "metadata": {},
   "source": [
    "### https://school.programmers.co.kr/learn/courses/30/lessons/60059"
   ]
  },
  {
   "cell_type": "code",
   "execution_count": 158,
   "metadata": {},
   "outputs": [],
   "source": [
    "def solution(key, lock):\n",
    "    \n",
    "    n = len(lock)\n",
    "    m = len(key)\n",
    "    \n",
    "    def shift(rotate_key, r, c): # (r, c)만큼 쉬프트해서 더하기\n",
    "        check = [[0]*(3*n) for _ in range(3*n)]\n",
    "        for i in range(n):\n",
    "            for j in range(n):\n",
    "                check[i+n][j+n] = lock[i][j]\n",
    "        # print(check)\n",
    "        for i in range(m):\n",
    "            for j in range(m):\n",
    "                check[i+n-m+1+r][j+n-m+1+c] += rotate_key[i][j]\n",
    "        return check\n",
    "    \n",
    "    def rotation(key):\n",
    "        rotation_key = [[0]*m for _ in range(m)]\n",
    "        for i in range(m):\n",
    "            for j in range(m):\n",
    "                rotation_key[m-1-j][i] = key[i][j]\n",
    "\n",
    "        return rotation_key\n",
    "    \n",
    "    def check(array): # 자물쇠 부분 확인\n",
    "        for i in range(n, 2*n):\n",
    "            for j in range(n, 2*n):\n",
    "                number = array[i][j]\n",
    "                # print(number)\n",
    "                if number !=1: # 1이 아니면 다 안됨\n",
    "                    return False\n",
    "        return True\n",
    "    keylist = [key, rotation(key), rotation(rotation(key)), rotation(rotation(rotation(key)))]\n",
    "    for rotate_key in keylist:\n",
    "        # print(rotate_key)\n",
    "        for r in range(n+m-1):\n",
    "            for c in range(n+m-1):\n",
    "                result = shift(rotate_key, r,c)\n",
    "                # print(result)\n",
    "                flag = check(result)\n",
    "                if flag == True:\n",
    "                    return True\n",
    "            \n",
    "   \n",
    "    \n",
    "    # 다 확인했는데 안되면...      \n",
    "    return False"
   ]
  },
  {
   "cell_type": "code",
   "execution_count": 159,
   "metadata": {},
   "outputs": [
    {
     "data": {
      "text/plain": [
       "True"
      ]
     },
     "execution_count": 159,
     "metadata": {},
     "output_type": "execute_result"
    }
   ],
   "source": [
    "key = [[0, 0, 0], [1, 0, 0], [0, 1, 1]]\n",
    "lock = [[1, 1, 1], [1, 1, 0], [1, 0, 1]]\n",
    "solution(key, lock)"
   ]
  },
  {
   "attachments": {},
   "cell_type": "markdown",
   "metadata": {},
   "source": [
    "## dp 최소 편집거리"
   ]
  },
  {
   "cell_type": "code",
   "execution_count": 10,
   "metadata": {},
   "outputs": [],
   "source": [
    "def solution(str1, str2):\n",
    "    # dp 선언\n",
    "    # dp[i][j] : 0 ~i번째 문자열에서 0 ~ j번째 문자열을 변환하는데 필요한 최소 편집 횟수\n",
    "    # dp[i][j] = min(dp[i-1][j] : 삽입, dp[i][j-1] : 삭제, dp[i-1][j-1] : 교체)\n",
    "    n = len(str1)\n",
    "    m = len(str2)\n",
    "    \n",
    "    # dp 초기화\n",
    "    dp = [[0]*(m+1) for _ in range(n+1)]\n",
    "    # dp[i][0] => ex> satur -> \"\"로 바꿀려면 다 삭제 해야한다\n",
    "    for i in range(1,n+1):\n",
    "        dp[i][0] =i\n",
    "    for j in range(1,m+1):\n",
    "        dp[0][j] = j\n",
    "\n",
    "    # do dp\n",
    "    for i in range(1,n+1):\n",
    "        for j in range(1,m+1):\n",
    "            if str1[i-1] == str2[j-1]:\n",
    "                dp[i][j] = dp[i-1][j-1]\n",
    "            else:\n",
    "                dp[i][j] = min(dp[i-1][j], dp[i][j-1], dp[i-1][j-1]) +1\n",
    "\n",
    "    return dp[n][m]"
   ]
  },
  {
   "cell_type": "code",
   "execution_count": 11,
   "metadata": {},
   "outputs": [
    {
     "data": {
      "text/plain": [
       "3"
      ]
     },
     "execution_count": 11,
     "metadata": {},
     "output_type": "execute_result"
    }
   ],
   "source": [
    "str1 = 'sunday'\n",
    "str2 = 'saturday'\n",
    "solution(str1, str2)\n"
   ]
  },
  {
   "attachments": {},
   "cell_type": "markdown",
   "metadata": {},
   "source": [
    "## 정렬된 배열에서 특정 수의 개수 구하기"
   ]
  },
  {
   "cell_type": "code",
   "execution_count": 13,
   "metadata": {},
   "outputs": [
    {
     "data": {
      "text/plain": [
       "-1"
      ]
     },
     "execution_count": 13,
     "metadata": {},
     "output_type": "execute_result"
    }
   ],
   "source": [
    "numbers = [1,1,2,2,2,2,3]\n",
    "x=4\n",
    "def solution(numbers, x):\n",
    "# target이 numbers안에 없을경우 계산\n",
    "    def get_lowerBound(array, target):\n",
    "        n = len(array)\n",
    "        l = 0\n",
    "        r = n-1\n",
    "        lower_bound = -1\n",
    "        while l<=r:\n",
    "            mid = (l+r)//2\n",
    "            if array[mid] ==target:\n",
    "                r =mid-1\n",
    "                lower_bound = mid\n",
    "            elif array[mid] > target:\n",
    "                r =mid-1\n",
    "            else:\n",
    "                l = mid+1\n",
    "        return lower_bound\n",
    "    def get_upperBound(array, target):\n",
    "        n = len(array)\n",
    "        l = 0\n",
    "        r = n-1\n",
    "        upper_bound = -1\n",
    "        while l<=r:\n",
    "            mid = (l+r)//2\n",
    "            if array[mid] ==target:\n",
    "                l =mid+1\n",
    "                upper_bound = mid\n",
    "            elif array[mid] > target:\n",
    "                r =mid-1\n",
    "            else:\n",
    "                l = mid+1\n",
    "        return upper_bound\n",
    "    # 값이 numbers안에 없으면 -1리턴\n",
    "    if not numbers[0] <= x <= numbers[-1]:\n",
    "        return -1\n",
    "\n",
    "    low_bound = get_lowerBound(numbers, x)\n",
    "    up_bound = get_upperBound(numbers,x)\n",
    "\n",
    "    return up_bound -low_bound +1\n",
    "solution(numbers, x)\n",
    "    \n"
   ]
  },
  {
   "cell_type": "code",
   "execution_count": null,
   "metadata": {},
   "outputs": [],
   "source": []
  }
 ],
 "metadata": {
  "kernelspec": {
   "display_name": "base",
   "language": "python",
   "name": "python3"
  },
  "language_info": {
   "codemirror_mode": {
    "name": "ipython",
    "version": 3
   },
   "file_extension": ".py",
   "mimetype": "text/x-python",
   "name": "python",
   "nbconvert_exporter": "python",
   "pygments_lexer": "ipython3",
   "version": "3.9.12"
  },
  "orig_nbformat": 4
 },
 "nbformat": 4,
 "nbformat_minor": 2
}
