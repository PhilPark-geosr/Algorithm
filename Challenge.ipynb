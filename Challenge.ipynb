{
 "cells": [
  {
   "attachments": {},
   "cell_type": "markdown",
   "metadata": {},
   "source": [
    "### https://school.programmers.co.kr/learn/courses/30/lessons/60058"
   ]
  },
  {
   "cell_type": "code",
   "execution_count": 34,
   "metadata": {},
   "outputs": [],
   "source": [
    "def solution(p):\n",
    "\n",
    "    #check p is correct string\n",
    "    def check(string):\n",
    "        ## TODO: 빈 문자열인 경우도 체크\n",
    "        stack = []\n",
    "        if string[0] ==\")\": #이미 글러먹은 놈들\n",
    "            return False\n",
    "        # 글러먹은 놈들 아닐경우에만 체크\n",
    "        for i in range(len(string)):\n",
    "            if len(stack) ==0:\n",
    "                stack.append(string[i])\n",
    "            else:\n",
    "                if stack[0] ==\")\":\n",
    "                    return False\n",
    "                if string[i] ==\")\":\n",
    "                    if stack[-1] ==\"(\":\n",
    "                        stack.pop()\n",
    "                    else:\n",
    "                        stack.append(string[i])\n",
    "                else: # string[i] ==\"(\"\n",
    "                    stack.append(string[i])\n",
    "        # 작업 다 끝난후 stack에 아무것도 없으면\n",
    "        if len(stack) ==0:\n",
    "            return True\n",
    "        else:\n",
    "            return False\n",
    "        \n",
    "    def dfs(string):\n",
    "        if len(string) ==0:\n",
    "            return \"\"\n",
    "        # u, v 쪼개기\n",
    "        ch = 0\n",
    "        u = \"\"\n",
    "        v = \"\"\n",
    "        \n",
    "        for i in range(len(string)):\n",
    "            if string[i] ==\"(\":\n",
    "                ch+=1\n",
    "            else:\n",
    "                ch-=1\n",
    "            if ch ==0:\n",
    "                u = string[:i+1]\n",
    "                v = string[i+1:]\n",
    "                break\n",
    "        # print(f\"u,v, {u, v}\")\n",
    "        if check(u) ==True: #올바른 괄호 문자열\n",
    "            result = dfs(v)\n",
    "            result = u+ result\n",
    "            return result\n",
    "        \n",
    "        else: #check(u) ==False\n",
    "            result = dfs(v)\n",
    "            last = len(u)\n",
    "            # print(last)\n",
    "            u = u[1:last-1]\n",
    "            table = u.maketrans({'(': ')', ')': '(' })\n",
    "            u = u.translate(table)\n",
    "            # u = u[::-1]\n",
    "            result = \"(\" + result + \")\" + u\n",
    "\n",
    "            return result\n",
    "        \n",
    "    answer = dfs(p)\n",
    "\n",
    "\n",
    "        \n",
    "    # print(check(\"(()())()\"))\n",
    "\n",
    "    \n",
    "    return answer"
   ]
  },
  {
   "cell_type": "code",
   "execution_count": 35,
   "metadata": {},
   "outputs": [
    {
     "data": {
      "text/plain": [
       "'()(())()'"
      ]
     },
     "execution_count": 35,
     "metadata": {},
     "output_type": "execute_result"
    }
   ],
   "source": [
    "p = \"()))((()\"\n",
    "# p = \"(()())()\"\n",
    "# p = \")(\"\n",
    "solution(p)"
   ]
  },
  {
   "cell_type": "code",
   "execution_count": 30,
   "metadata": {},
   "outputs": [
    {
     "data": {
      "text/plain": [
       "'bc'"
      ]
     },
     "execution_count": 30,
     "metadata": {},
     "output_type": "execute_result"
    }
   ],
   "source": [
    "a = \"abc\"\n",
    "a = a[1:3]\n",
    "a"
   ]
  },
  {
   "cell_type": "code",
   "execution_count": null,
   "metadata": {},
   "outputs": [],
   "source": []
  }
 ],
 "metadata": {
  "kernelspec": {
   "display_name": "base",
   "language": "python",
   "name": "python3"
  },
  "language_info": {
   "codemirror_mode": {
    "name": "ipython",
    "version": 3
   },
   "file_extension": ".py",
   "mimetype": "text/x-python",
   "name": "python",
   "nbconvert_exporter": "python",
   "pygments_lexer": "ipython3",
   "version": "3.9.12"
  },
  "orig_nbformat": 4
 },
 "nbformat": 4,
 "nbformat_minor": 2
}
