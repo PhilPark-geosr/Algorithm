{
 "cells": [
  {
   "cell_type": "markdown",
   "metadata": {},
   "source": [
    "## 트라이 자료구조"
   ]
  },
  {
   "cell_type": "code",
   "execution_count": 14,
   "metadata": {},
   "outputs": [],
   "source": [
    "class TrieNode:\n",
    "    def __init__(self):\n",
    "        self.word = False #문자열의 끝을 알려주는 flag\n",
    "        self.count = 0 #이 문자열로 시작하는게 몇개있는지\n",
    "        self.children = {} #자식들 딕셔너리로 선언\n",
    "class Trie:\n",
    "    def __init__(self):\n",
    "        self.root = TrieNode()\n",
    "    def insert(self, word:str):\n",
    "        node = self.root\n",
    "        for char in word:\n",
    "            if char not in node.children:\n",
    "                node.children[char] = TrieNode()\n",
    "            node = node.children[char]\n",
    "            node.count+=1\n",
    "        node.word = True #맨끝에 flag넣어놓기\n",
    "        \n",
    "    # def search(self, word:str):\n",
    "    #     node = self.root\n",
    "    #     for char in word:\n",
    "    #         if char not in node.children:\n",
    "    #             return False #없다\n",
    "    #         node = node.children[char] #포인터 이동\n",
    "    #     return node.word\n",
    "\n",
    "    def search_min_length(self, word):\n",
    "        node = self.root\n",
    "        min_length = 0\n",
    "        for char in word:\n",
    "            node = node.children[char] #하나 이동\n",
    "            min_length +=1\n",
    "            if node.count ==1:\n",
    "                return min_length\n",
    "        return min_length\n",
    "\n",
    "\n",
    "\n",
    "\n",
    "\n"
   ]
  },
  {
   "cell_type": "code",
   "execution_count": 15,
   "metadata": {},
   "outputs": [
    {
     "name": "stdout",
     "output_type": "stream",
     "text": [
      "3\n"
     ]
    }
   ],
   "source": [
    "trie = Trie()\n",
    "words = [\"go\",\"gone\",\"guild\"]\n",
    "for word in words: #문자열삽입\n",
    "    trie.insert(word)\n",
    "\n",
    "print(trie.search_min_length('gone'))\n",
    "\n"
   ]
  },
  {
   "cell_type": "code",
   "execution_count": null,
   "metadata": {},
   "outputs": [],
   "source": []
  }
 ],
 "metadata": {
  "kernelspec": {
   "display_name": "base",
   "language": "python",
   "name": "python3"
  },
  "language_info": {
   "codemirror_mode": {
    "name": "ipython",
    "version": 3
   },
   "file_extension": ".py",
   "mimetype": "text/x-python",
   "name": "python",
   "nbconvert_exporter": "python",
   "pygments_lexer": "ipython3",
   "version": "3.9.12"
  },
  "orig_nbformat": 4
 },
 "nbformat": 4,
 "nbformat_minor": 2
}
